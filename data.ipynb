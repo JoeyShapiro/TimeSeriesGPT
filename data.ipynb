{
 "cells": [
  {
   "cell_type": "code",
   "execution_count": null,
   "metadata": {},
   "outputs": [],
   "source": [
    "# pattern: i\n",
    "with open('raw_data/000_arithmetic.csv', 'w') as f:\n",
    "    for i in range(1, 1024*10):\n",
    "        f.write(f\"{i}\\n\")"
   ]
  },
  {
   "cell_type": "code",
   "execution_count": null,
   "metadata": {},
   "outputs": [],
   "source": [
    "# pattern: i * 2\n",
    "with open('raw_data/000_mul.csv', 'w') as f:\n",
    "    for i in range(1, 1024*10):\n",
    "        f.write(f\"{i * 2}\\n\")"
   ]
  },
  {
   "cell_type": "code",
   "execution_count": null,
   "metadata": {},
   "outputs": [],
   "source": [
    "with open('raw_data/000_periodic.csv', 'w') as f:\n",
    "    for i in range(1, 1024*10):\n",
    "        f.write(f\"{i & 1}\\n\")"
   ]
  },
  {
   "cell_type": "code",
   "execution_count": null,
   "metadata": {},
   "outputs": [],
   "source": [
    "with open('raw_data/000_combined.csv', 'w') as f:\n",
    "    for i in range(1, 1024*10):\n",
    "        f.write(f\"{i},{i*2},{i&1}\\n\")"
   ]
  },
  {
   "cell_type": "code",
   "execution_count": 14,
   "metadata": {},
   "outputs": [],
   "source": [
    "import numpy as np\n",
    "with open('raw_data/001_sine.csv', 'w') as f:\n",
    "    for i in range(1, 1024*10):\n",
    "        f.write(f\"{round(np.sin(i*0.1), 3)}\\n\")"
   ]
  },
  {
   "cell_type": "code",
   "execution_count": null,
   "metadata": {},
   "outputs": [],
   "source": [
    "import numpy as np\n",
    "with open('raw_data/001_sine-comb.csv', 'w') as f:\n",
    "    for i in range(1, 1024*10):\n",
    "        f.write(f\"{i},{round(np.sin(i*0.1), 3),{i & 1}}\\n\")"
   ]
  },
  {
   "cell_type": "code",
   "execution_count": 15,
   "metadata": {},
   "outputs": [],
   "source": [
    "with open('raw_data/000_count-10.csv', 'w') as f:\n",
    "    for i in range(1, 1024*10):\n",
    "        f.write(f\"{i % 11}\\n\")"
   ]
  },
  {
   "cell_type": "code",
   "execution_count": null,
   "metadata": {},
   "outputs": [],
   "source": [
    "with open('raw_data/001_gears.csv', 'w') as f:\n",
    "    for i in range(1, 1024*10):\n",
    "        f.write(f\"{int(i % 2 == 0)},{int(i % 4 == 0)},{int(i % 8 == 0)},{int(i % 16 == 0)}\\n\")"
   ]
  },
  {
   "cell_type": "code",
   "execution_count": 1,
   "metadata": {},
   "outputs": [],
   "source": [
    "with open('raw_data/002_time.csv', 'w') as f:\n",
    "    for i in range(1, 1024*10):\n",
    "        s = i % 60\n",
    "        m = i // 60 % 60\n",
    "        h = i // 3600 % 24\n",
    "        f.write(f\"{h},{m},{s}\\n\")"
   ]
  },
  {
   "cell_type": "code",
   "execution_count": 2,
   "metadata": {},
   "outputs": [],
   "source": [
    "with open('raw_data/002_quadratic.csv', 'w') as f:\n",
    "    for i in range(1, 1024*10):\n",
    "        x = i % 100\n",
    "        f.write(f\"{x**2 + 2 * x + 5}\\n\")"
   ]
  },
  {
   "cell_type": "code",
   "execution_count": 3,
   "metadata": {},
   "outputs": [],
   "source": [
    "with open('raw_data/001_xy.csv', 'w') as f:\n",
    "    for i in range(1, 1024*10):\n",
    "        x = i % 100\n",
    "        y = 2 * x + 5\n",
    "        f.write(f\"{i},{x},{y}\\n\")"
   ]
  },
  {
   "cell_type": "code",
   "execution_count": 4,
   "metadata": {},
   "outputs": [],
   "source": [
    "with open('raw_data/002_xyz.csv', 'w') as f:\n",
    "    for i in range(1, 1024*10):\n",
    "        x = i % 100\n",
    "        y = 2 * x + 5\n",
    "        z = 3 * y + 1\n",
    "        f.write(f\"{i},{x},{y},{z}\\n\")"
   ]
  },
  {
   "cell_type": "code",
   "execution_count": 6,
   "metadata": {},
   "outputs": [],
   "source": [
    "with open('raw_data/001_counting.csv', 'w') as f:\n",
    "    for i in range(1, 1024*10):\n",
    "        x = i % 100\n",
    "        ending = '\\n' if i % 5 == 0 else ','\n",
    "        text = f\"{x}\" + ending\n",
    "        f.write(text)"
   ]
  },
  {
   "cell_type": "code",
   "execution_count": 8,
   "metadata": {},
   "outputs": [],
   "source": [
    "with open('raw_data/002_polyrow.csv', 'w') as f:\n",
    "    for i in range(1, 1024*10):\n",
    "        x = i % 100\n",
    "        x = 2 * x + 5\n",
    "        \n",
    "        ending = '\\n' if i % 5 == 0 else ','\n",
    "        text = f\"{x}\" + ending\n",
    "        f.write(text)"
   ]
  },
  {
   "cell_type": "code",
   "execution_count": 9,
   "metadata": {},
   "outputs": [],
   "source": [
    "with open('raw_data/train_001_10-20.csv', 'w') as f:\n",
    "    for i in range(1, 1024*10):\n",
    "        x = i % 10\n",
    "        f.write(f\"{x + 10}\\n\")"
   ]
  },
  {
   "cell_type": "code",
   "execution_count": 10,
   "metadata": {},
   "outputs": [],
   "source": [
    "with open('raw_data/train_002_xyz.csv', 'w') as f:\n",
    "    for i in range(1, 1024*10):\n",
    "        x = i % 100\n",
    "        y = x + 2\n",
    "        z = 3 * y\n",
    "        f.write(f\"{i},{x},{y},{z}\\n\")"
   ]
  },
  {
   "cell_type": "code",
   "execution_count": null,
   "metadata": {},
   "outputs": [],
   "source": []
  }
 ],
 "metadata": {
  "kernelspec": {
   "display_name": "Python 3.9 (Default)",
   "language": "python",
   "name": "python3"
  },
  "language_info": {
   "codemirror_mode": {
    "name": "ipython",
    "version": 3
   },
   "file_extension": ".py",
   "mimetype": "text/x-python",
   "name": "python",
   "nbconvert_exporter": "python",
   "pygments_lexer": "ipython3",
   "version": "3.9.7"
  }
 },
 "nbformat": 4,
 "nbformat_minor": 4
}
