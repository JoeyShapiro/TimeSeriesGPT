{
 "cells": [
  {
   "cell_type": "code",
   "execution_count": 17,
   "metadata": {},
   "outputs": [],
   "source": [
    "# pattern: i\n",
    "with open('raw_data/000_arithmetic.csv', 'w') as f:\n",
    "    for i in range(1, 1024*10):\n",
    "        f.write(f\"{i}\\n\")"
   ]
  },
  {
   "cell_type": "code",
   "execution_count": 18,
   "metadata": {},
   "outputs": [],
   "source": [
    "# pattern: i * 2\n",
    "with open('raw_data/000_mul.csv', 'w') as f:\n",
    "    for i in range(1, 1024*10):\n",
    "        f.write(f\"{i * 2}\\n\")"
   ]
  },
  {
   "cell_type": "code",
   "execution_count": 19,
   "metadata": {},
   "outputs": [],
   "source": [
    "with open('raw_data/000_periodic.csv', 'w') as f:\n",
    "    for i in range(1, 1024*10):\n",
    "        f.write(f\"{i & 1}\\n\")"
   ]
  },
  {
   "cell_type": "code",
   "execution_count": 20,
   "metadata": {},
   "outputs": [],
   "source": [
    "with open('raw_data/000_combined.csv', 'w') as f:\n",
    "    for i in range(1, 1024*10):\n",
    "        f.write(f\"{i},{i*2},{i&1}\\n\")"
   ]
  },
  {
   "cell_type": "code",
   "execution_count": 21,
   "metadata": {},
   "outputs": [],
   "source": [
    "import numpy as np\n",
    "with open('raw_data/001_sine.csv', 'w') as f:\n",
    "    for i in range(1, 1024*10):\n",
    "        f.write(f\"{round(np.sin(i*0.1), 3)}\\n\")"
   ]
  },
  {
   "cell_type": "code",
   "execution_count": 22,
   "metadata": {},
   "outputs": [],
   "source": [
    "import numpy as np\n",
    "with open('raw_data/001_sine-comb.csv', 'w') as f:\n",
    "    for i in range(1, 1024*10):\n",
    "        f.write(f\"{i},{round(np.sin(i*0.1), 3),{i & 1}}\\n\")"
   ]
  },
  {
   "cell_type": "code",
   "execution_count": 23,
   "metadata": {},
   "outputs": [],
   "source": [
    "with open('raw_data/000_count-10.csv', 'w') as f:\n",
    "    for i in range(1, 1024*10):\n",
    "        f.write(f\"{i % 11}\\n\")"
   ]
  },
  {
   "cell_type": "code",
   "execution_count": 24,
   "metadata": {},
   "outputs": [],
   "source": [
    "with open('raw_data/001_gears.csv', 'w') as f:\n",
    "    for i in range(1, 1024*10):\n",
    "        f.write(f\"{int(i % 2 == 0)},{int(i % 4 == 0)},{int(i % 8 == 0)},{int(i % 16 == 0)}\\n\")"
   ]
  },
  {
   "cell_type": "code",
   "execution_count": 25,
   "metadata": {},
   "outputs": [],
   "source": [
    "with open('raw_data/002_time.csv', 'w') as f:\n",
    "    for i in range(1, 1024*10):\n",
    "        s = i % 60\n",
    "        m = i // 60 % 60\n",
    "        h = i // 3600 % 24\n",
    "        f.write(f\"{h},{m},{s}\\n\")"
   ]
  },
  {
   "cell_type": "code",
   "execution_count": 26,
   "metadata": {},
   "outputs": [],
   "source": [
    "with open('raw_data/002_quadratic.csv', 'w') as f:\n",
    "    for i in range(1, 1024*10):\n",
    "        x = i % 100\n",
    "        f.write(f\"{x**2 + 2 * x + 5}\\n\")"
   ]
  },
  {
   "cell_type": "code",
   "execution_count": 27,
   "metadata": {},
   "outputs": [],
   "source": [
    "with open('raw_data/001_xy.csv', 'w') as f:\n",
    "    for i in range(1, 1024*10):\n",
    "        x = i % 100\n",
    "        y = 2 * x + 5\n",
    "        f.write(f\"{i},{x},{y}\\n\")"
   ]
  },
  {
   "cell_type": "code",
   "execution_count": 28,
   "metadata": {},
   "outputs": [],
   "source": [
    "with open('raw_data/002_xyz.csv', 'w') as f:\n",
    "    for i in range(1, 1024*10):\n",
    "        x = i % 100\n",
    "        y = 2 * x + 5\n",
    "        z = 3 * y + 1\n",
    "        f.write(f\"{i},{x},{y},{z}\\n\")"
   ]
  },
  {
   "cell_type": "code",
   "execution_count": 29,
   "metadata": {},
   "outputs": [],
   "source": [
    "with open('raw_data/001_counting.csv', 'w') as f:\n",
    "    for i in range(1, 1024*10):\n",
    "        x = i % 100\n",
    "        ending = '\\n' if i % 5 == 0 else ','\n",
    "        text = f\"{x}\" + ending\n",
    "        f.write(text)"
   ]
  },
  {
   "cell_type": "code",
   "execution_count": 30,
   "metadata": {},
   "outputs": [],
   "source": [
    "with open('raw_data/002_polyrow.csv', 'w') as f:\n",
    "    for i in range(1, 1024*10):\n",
    "        x = i % 100\n",
    "        x = 2 * x + 5\n",
    "        \n",
    "        ending = '\\n' if i % 5 == 0 else ','\n",
    "        text = f\"{x}\" + ending\n",
    "        f.write(text)"
   ]
  },
  {
   "cell_type": "code",
   "execution_count": 1,
   "metadata": {},
   "outputs": [],
   "source": [
    "with open('raw_data/train_001_10-20.csv', 'w') as f:\n",
    "    for i in range(1, 1024*10):\n",
    "        x = i % 10\n",
    "        f.write(f\"{x + 10}\\n\")"
   ]
  },
  {
   "cell_type": "code",
   "execution_count": 2,
   "metadata": {},
   "outputs": [],
   "source": [
    "with open('raw_data/train_001_poly.csv', 'w') as f:\n",
    "    for i in range(1, 1024*10):\n",
    "        x = i % 100\n",
    "        x = 3 * x + 4\n",
    "        f.write(f\"{x}\\n\")"
   ]
  },
  {
   "cell_type": "code",
   "execution_count": 3,
   "metadata": {},
   "outputs": [],
   "source": [
    "with open('raw_data/train_002_xyz.csv', 'w') as f:\n",
    "    for i in range(1, 1024*10):\n",
    "        x = i % 100\n",
    "        y = x + 2\n",
    "        z = 3 * y\n",
    "        f.write(f\"{i},{x},{y},{z}\\n\")"
   ]
  },
  {
   "cell_type": "code",
   "execution_count": 1,
   "metadata": {},
   "outputs": [
    {
     "name": "stdout",
     "output_type": "stream",
     "text": [
      "495772\n"
     ]
    },
    {
     "data": {
      "text/html": [
       "<div>\n",
       "<style scoped>\n",
       "    .dataframe tbody tr th:only-of-type {\n",
       "        vertical-align: middle;\n",
       "    }\n",
       "\n",
       "    .dataframe tbody tr th {\n",
       "        vertical-align: top;\n",
       "    }\n",
       "\n",
       "    .dataframe thead th {\n",
       "        text-align: right;\n",
       "    }\n",
       "</style>\n",
       "<table border=\"1\" class=\"dataframe\">\n",
       "  <thead>\n",
       "    <tr style=\"text-align: right;\">\n",
       "      <th></th>\n",
       "      <th>Date</th>\n",
       "      <th>Price min</th>\n",
       "      <th>Price max</th>\n",
       "    </tr>\n",
       "  </thead>\n",
       "  <tbody>\n",
       "    <tr>\n",
       "      <th>0</th>\n",
       "      <td>08-02-2022</td>\n",
       "      <td>0.8</td>\n",
       "      <td>2.9</td>\n",
       "    </tr>\n",
       "    <tr>\n",
       "      <th>1</th>\n",
       "      <td>08-02-2022</td>\n",
       "      <td>0.8</td>\n",
       "      <td>2.9</td>\n",
       "    </tr>\n",
       "    <tr>\n",
       "      <th>2</th>\n",
       "      <td>08-02-2022</td>\n",
       "      <td>0.8</td>\n",
       "      <td>2.9</td>\n",
       "    </tr>\n",
       "    <tr>\n",
       "      <th>3</th>\n",
       "      <td>08-02-2022</td>\n",
       "      <td>0.8</td>\n",
       "      <td>2.9</td>\n",
       "    </tr>\n",
       "    <tr>\n",
       "      <th>4</th>\n",
       "      <td>08-02-2022</td>\n",
       "      <td>0.8</td>\n",
       "      <td>2.9</td>\n",
       "    </tr>\n",
       "  </tbody>\n",
       "</table>\n",
       "</div>"
      ],
      "text/plain": [
       "         Date  Price min  Price max\n",
       "0  08-02-2022        0.8        2.9\n",
       "1  08-02-2022        0.8        2.9\n",
       "2  08-02-2022        0.8        2.9\n",
       "3  08-02-2022        0.8        2.9\n",
       "4  08-02-2022        0.8        2.9"
      ]
     },
     "metadata": {},
     "output_type": "display_data"
    }
   ],
   "source": [
    "import pandas as pd\n",
    "import numpy as np\n",
    "df = pd.read_csv('raw_data/004_apple.csv', sep=';')\n",
    "df = df.loc[df.index.repeat(50)]\n",
    "print(len(df))\n",
    "display(df.head())\n",
    "df.to_csv('raw_data/004_apple.csv', index=False, sep=',')"
   ]
  },
  {
   "cell_type": "code",
   "execution_count": 2,
   "metadata": {},
   "outputs": [
    {
     "name": "stdout",
     "output_type": "stream",
     "text": [
      "7650\n",
      "  Date;Price min;Price max\n",
      "0       11-10-2021;0.0;0.0\n",
      "1       11-10-2021;0.0;0.0\n",
      "2       11-10-2021;0.0;0.0\n",
      "3       11-10-2021;0.0;0.0\n",
      "4       11-10-2021;0.0;0.0\n"
     ]
    }
   ],
   "source": [
    "import pandas as pd\n",
    "import numpy as np\n",
    "df = pd.read_csv('raw_data/004_apricot.csv')\n",
    "df = df.loc[df.index.repeat(50)]\n",
    "print(len(df))\n",
    "print(df.head())\n",
    "df.to_csv('raw_data/004_apricot.csv', index=False, sep=',')"
   ]
  },
  {
   "cell_type": "code",
   "execution_count": 3,
   "metadata": {},
   "outputs": [
    {
     "name": "stdout",
     "output_type": "stream",
     "text": [
      "5800\n",
      "  Date;Price min;Price max\n",
      "0       28-02-2022;2.0;2.6\n",
      "1       28-02-2022;2.0;2.6\n",
      "2       28-02-2022;2.0;2.6\n",
      "3       28-02-2022;2.0;2.6\n",
      "4       28-02-2022;2.0;2.6\n"
     ]
    }
   ],
   "source": [
    "import pandas as pd\n",
    "import numpy as np\n",
    "df = pd.read_csv('raw_data/004_banana.csv')\n",
    "df = df.loc[df.index.repeat(100)]\n",
    "print(len(df))\n",
    "print(df.head())\n",
    "df.to_csv('raw_data/004_banana.csv', index=False, sep=',')"
   ]
  },
  {
   "cell_type": "code",
   "execution_count": 9,
   "metadata": {},
   "outputs": [
    {
     "name": "stderr",
     "output_type": "stream",
     "text": [
      "/var/folders/8v/kyhpjx6d3y1b7dp0twz_83sw0000gn/T/ipykernel_36683/2924597830.py:3: DtypeWarning: Columns (2) have mixed types. Specify dtype option on import or set low_memory=False.\n",
      "  df = pd.read_csv('raw_data/city_temperature.csv')\n"
     ]
    },
    {
     "data": {
      "text/html": [
       "<div>\n",
       "<style scoped>\n",
       "    .dataframe tbody tr th:only-of-type {\n",
       "        vertical-align: middle;\n",
       "    }\n",
       "\n",
       "    .dataframe tbody tr th {\n",
       "        vertical-align: top;\n",
       "    }\n",
       "\n",
       "    .dataframe thead th {\n",
       "        text-align: right;\n",
       "    }\n",
       "</style>\n",
       "<table border=\"1\" class=\"dataframe\">\n",
       "  <thead>\n",
       "    <tr style=\"text-align: right;\">\n",
       "      <th></th>\n",
       "      <th>AvgTemperature</th>\n",
       "    </tr>\n",
       "  </thead>\n",
       "  <tbody>\n",
       "    <tr>\n",
       "      <th>0</th>\n",
       "      <td>64.2</td>\n",
       "    </tr>\n",
       "    <tr>\n",
       "      <th>1</th>\n",
       "      <td>49.4</td>\n",
       "    </tr>\n",
       "    <tr>\n",
       "      <th>2</th>\n",
       "      <td>48.8</td>\n",
       "    </tr>\n",
       "    <tr>\n",
       "      <th>3</th>\n",
       "      <td>46.4</td>\n",
       "    </tr>\n",
       "    <tr>\n",
       "      <th>4</th>\n",
       "      <td>47.9</td>\n",
       "    </tr>\n",
       "  </tbody>\n",
       "</table>\n",
       "</div>"
      ],
      "text/plain": [
       "   AvgTemperature\n",
       "0            64.2\n",
       "1            49.4\n",
       "2            48.8\n",
       "3            46.4\n",
       "4            47.9"
      ]
     },
     "metadata": {},
     "output_type": "display_data"
    },
    {
     "data": {
      "text/html": [
       "<div>\n",
       "<style scoped>\n",
       "    .dataframe tbody tr th:only-of-type {\n",
       "        vertical-align: middle;\n",
       "    }\n",
       "\n",
       "    .dataframe tbody tr th {\n",
       "        vertical-align: top;\n",
       "    }\n",
       "\n",
       "    .dataframe thead th {\n",
       "        text-align: right;\n",
       "    }\n",
       "</style>\n",
       "<table border=\"1\" class=\"dataframe\">\n",
       "  <thead>\n",
       "    <tr style=\"text-align: right;\">\n",
       "      <th></th>\n",
       "      <th>Region</th>\n",
       "      <th>Country</th>\n",
       "      <th>State</th>\n",
       "      <th>City</th>\n",
       "      <th>Month</th>\n",
       "      <th>Day</th>\n",
       "      <th>Year</th>\n",
       "      <th>AvgTemperature</th>\n",
       "    </tr>\n",
       "  </thead>\n",
       "  <tbody>\n",
       "    <tr>\n",
       "      <th>0</th>\n",
       "      <td>Africa</td>\n",
       "      <td>Algeria</td>\n",
       "      <td>NaN</td>\n",
       "      <td>Algiers</td>\n",
       "      <td>1</td>\n",
       "      <td>1</td>\n",
       "      <td>1995</td>\n",
       "      <td>64.2</td>\n",
       "    </tr>\n",
       "    <tr>\n",
       "      <th>1</th>\n",
       "      <td>Africa</td>\n",
       "      <td>Algeria</td>\n",
       "      <td>NaN</td>\n",
       "      <td>Algiers</td>\n",
       "      <td>1</td>\n",
       "      <td>2</td>\n",
       "      <td>1995</td>\n",
       "      <td>49.4</td>\n",
       "    </tr>\n",
       "    <tr>\n",
       "      <th>2</th>\n",
       "      <td>Africa</td>\n",
       "      <td>Algeria</td>\n",
       "      <td>NaN</td>\n",
       "      <td>Algiers</td>\n",
       "      <td>1</td>\n",
       "      <td>3</td>\n",
       "      <td>1995</td>\n",
       "      <td>48.8</td>\n",
       "    </tr>\n",
       "    <tr>\n",
       "      <th>3</th>\n",
       "      <td>Africa</td>\n",
       "      <td>Algeria</td>\n",
       "      <td>NaN</td>\n",
       "      <td>Algiers</td>\n",
       "      <td>1</td>\n",
       "      <td>4</td>\n",
       "      <td>1995</td>\n",
       "      <td>46.4</td>\n",
       "    </tr>\n",
       "    <tr>\n",
       "      <th>4</th>\n",
       "      <td>Africa</td>\n",
       "      <td>Algeria</td>\n",
       "      <td>NaN</td>\n",
       "      <td>Algiers</td>\n",
       "      <td>1</td>\n",
       "      <td>5</td>\n",
       "      <td>1995</td>\n",
       "      <td>47.9</td>\n",
       "    </tr>\n",
       "  </tbody>\n",
       "</table>\n",
       "</div>"
      ],
      "text/plain": [
       "   Region  Country State     City  Month  Day  Year  AvgTemperature\n",
       "0  Africa  Algeria   NaN  Algiers      1    1  1995            64.2\n",
       "1  Africa  Algeria   NaN  Algiers      1    2  1995            49.4\n",
       "2  Africa  Algeria   NaN  Algiers      1    3  1995            48.8\n",
       "3  Africa  Algeria   NaN  Algiers      1    4  1995            46.4\n",
       "4  Africa  Algeria   NaN  Algiers      1    5  1995            47.9"
      ]
     },
     "metadata": {},
     "output_type": "display_data"
    }
   ],
   "source": [
    "import pandas as pd\n",
    "import numpy as np\n",
    "df = pd.read_csv('raw_data/city_temperature.csv')\n",
    "# remove all but avgTemp\n",
    "df_temp = df[['AvgTemperature']]\n",
    "display(df_temp.head())\n",
    "df_temp.to_csv('raw_data/004_city-temperature.csv', index=False)\n",
    "\n",
    "df.to_csv('raw_data/005_city-temperature.csv', index=False)\n",
    "display(df.head())"
   ]
  },
  {
   "cell_type": "code",
   "execution_count": 16,
   "metadata": {},
   "outputs": [
    {
     "name": "stdout",
     "output_type": "stream",
     "text": [
      "26100\n",
      "   2019-12-01  53\n",
      "0  2019-12-08  55\n",
      "0  2019-12-08  55\n",
      "0  2019-12-08  55\n",
      "0  2019-12-08  55\n",
      "0  2019-12-08  55\n",
      "26100\n",
      "   2019-12-01  2\n",
      "0  2019-12-08  2\n",
      "0  2019-12-08  2\n",
      "0  2019-12-08  2\n",
      "0  2019-12-08  2\n",
      "0  2019-12-08  2\n",
      "26100\n",
      "   2019-12-01  52\n",
      "0  2019-12-08  41\n",
      "0  2019-12-08  41\n",
      "0  2019-12-08  41\n",
      "0  2019-12-08  41\n",
      "0  2019-12-08  41\n"
     ]
    }
   ],
   "source": [
    "import pandas as pd\n",
    "\n",
    "df = pd.read_csv('raw_data/multiTimeline.csv', skiprows=3)\n",
    "df = df.loc[df.index.repeat(100)]\n",
    "print(len(df))\n",
    "print(df.head())\n",
    "df.to_csv('raw_data/003_christmas.csv', index=False)\n",
    "\n",
    "# halloween\n",
    "df = pd.read_csv('raw_data/multiTimeline-2.csv', skiprows=3)\n",
    "df = df.loc[df.index.repeat(100)]\n",
    "print(len(df))\n",
    "print(df.head())\n",
    "df.to_csv('raw_data/003_halloween.csv', index=False)\n",
    "\n",
    "# football\n",
    "df = pd.read_csv('raw_data/multiTimeline-3.csv', skiprows=3)\n",
    "df = df.loc[df.index.repeat(100)]\n",
    "print(len(df))\n",
    "print(df.head())\n",
    "df.to_csv('raw_data/003_football.csv', index=False)"
   ]
  }
 ],
 "metadata": {
  "kernelspec": {
   "display_name": "Python 3.9 (Default)",
   "language": "python",
   "name": "python3"
  },
  "language_info": {
   "codemirror_mode": {
    "name": "ipython",
    "version": 3
   },
   "file_extension": ".py",
   "mimetype": "text/x-python",
   "name": "python",
   "nbconvert_exporter": "python",
   "pygments_lexer": "ipython3",
   "version": "3.9.7"
  }
 },
 "nbformat": 4,
 "nbformat_minor": 4
}
