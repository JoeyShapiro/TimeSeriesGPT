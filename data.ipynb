{
 "cells": [
  {
   "cell_type": "code",
   "execution_count": null,
   "metadata": {},
   "outputs": [],
   "source": [
    "# pattern: i\n",
    "with open('raw_data/000_arithmetic.csv', 'w') as f:\n",
    "    for i in range(1, 1024*10):\n",
    "        f.write(f\"{i}\\n\")"
   ]
  },
  {
   "cell_type": "code",
   "execution_count": null,
   "metadata": {},
   "outputs": [],
   "source": [
    "# pattern: i * 2\n",
    "with open('raw_data/000_mul.csv', 'w') as f:\n",
    "    for i in range(1, 1024*10):\n",
    "        f.write(f\"{i * 2}\\n\")"
   ]
  },
  {
   "cell_type": "code",
   "execution_count": null,
   "metadata": {},
   "outputs": [],
   "source": [
    "with open('raw_data/000_periodic.csv', 'w') as f:\n",
    "    for i in range(1, 1024*10):\n",
    "        f.write(f\"{i & 1}\\n\")"
   ]
  },
  {
   "cell_type": "code",
   "execution_count": null,
   "metadata": {},
   "outputs": [],
   "source": [
    "with open('raw_data/000_combined.csv', 'w') as f:\n",
    "    for i in range(1, 1024*10):\n",
    "        f.write(f\"{i},{i*2},{i&1}\\n\")"
   ]
  },
  {
   "cell_type": "code",
   "execution_count": 14,
   "metadata": {},
   "outputs": [],
   "source": [
    "import numpy as np\n",
    "with open('raw_data/001_sine.csv', 'w') as f:\n",
    "    for i in range(1, 1024*10):\n",
    "        f.write(f\"{round(np.sin(i*0.1), 3)}\\n\")"
   ]
  }
 ],
 "metadata": {
  "kernelspec": {
   "display_name": "its530_py38",
   "language": "python",
   "name": "python3"
  },
  "language_info": {
   "codemirror_mode": {
    "name": "ipython",
    "version": 3
   },
   "file_extension": ".py",
   "mimetype": "text/x-python",
   "name": "python",
   "nbconvert_exporter": "python",
   "pygments_lexer": "ipython3",
   "version": "3.8.18"
  }
 },
 "nbformat": 4,
 "nbformat_minor": 2
}
